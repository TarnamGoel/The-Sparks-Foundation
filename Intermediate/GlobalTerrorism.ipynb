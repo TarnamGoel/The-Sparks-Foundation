{
 "cells": [
  {
   "cell_type": "code",
   "execution_count": 33,
   "id": "901524d6",
   "metadata": {},
   "outputs": [],
   "source": [
    "#Importing required libraries\n",
    "\n",
    "import pandas as pd\n",
    "import matplotlib.pyplot as plt\n",
    "import seaborn as sns"
   ]
  },
  {
   "cell_type": "code",
   "execution_count": 2,
   "id": "14e47aa1",
   "metadata": {},
   "outputs": [
    {
     "name": "stderr",
     "output_type": "stream",
     "text": [
      "C:\\Users\\tarna\\anaconda3\\lib\\site-packages\\IPython\\core\\interactiveshell.py:3444: DtypeWarning: Columns (4,6,31,33,61,62,63,76,79,90,92,94,96,114,115,121) have mixed types.Specify dtype option on import or set low_memory=False.\n",
      "  exec(code_obj, self.user_global_ns, self.user_ns)\n"
     ]
    }
   ],
   "source": [
    "#Loading dataset and changing the encoding type of pandas\n",
    "\n",
    "data=pd.read_csv(r\"C:\\Users\\tarna\\globalterrorismdb_0718dist.csv\",encoding=\"ISO-8859-1\")"
   ]
  },
  {
   "cell_type": "code",
   "execution_count": 3,
   "id": "af32e496",
   "metadata": {},
   "outputs": [
    {
     "data": {
      "text/html": [
       "<div>\n",
       "<style scoped>\n",
       "    .dataframe tbody tr th:only-of-type {\n",
       "        vertical-align: middle;\n",
       "    }\n",
       "\n",
       "    .dataframe tbody tr th {\n",
       "        vertical-align: top;\n",
       "    }\n",
       "\n",
       "    .dataframe thead th {\n",
       "        text-align: right;\n",
       "    }\n",
       "</style>\n",
       "<table border=\"1\" class=\"dataframe\">\n",
       "  <thead>\n",
       "    <tr style=\"text-align: right;\">\n",
       "      <th></th>\n",
       "      <th>eventid</th>\n",
       "      <th>iyear</th>\n",
       "      <th>imonth</th>\n",
       "      <th>iday</th>\n",
       "      <th>approxdate</th>\n",
       "      <th>extended</th>\n",
       "      <th>resolution</th>\n",
       "      <th>country</th>\n",
       "      <th>country_txt</th>\n",
       "      <th>region</th>\n",
       "      <th>...</th>\n",
       "      <th>addnotes</th>\n",
       "      <th>scite1</th>\n",
       "      <th>scite2</th>\n",
       "      <th>scite3</th>\n",
       "      <th>dbsource</th>\n",
       "      <th>INT_LOG</th>\n",
       "      <th>INT_IDEO</th>\n",
       "      <th>INT_MISC</th>\n",
       "      <th>INT_ANY</th>\n",
       "      <th>related</th>\n",
       "    </tr>\n",
       "  </thead>\n",
       "  <tbody>\n",
       "    <tr>\n",
       "      <th>0</th>\n",
       "      <td>197000000001</td>\n",
       "      <td>1970</td>\n",
       "      <td>7</td>\n",
       "      <td>2</td>\n",
       "      <td>NaN</td>\n",
       "      <td>0</td>\n",
       "      <td>NaN</td>\n",
       "      <td>58</td>\n",
       "      <td>Dominican Republic</td>\n",
       "      <td>2</td>\n",
       "      <td>...</td>\n",
       "      <td>NaN</td>\n",
       "      <td>NaN</td>\n",
       "      <td>NaN</td>\n",
       "      <td>NaN</td>\n",
       "      <td>PGIS</td>\n",
       "      <td>0</td>\n",
       "      <td>0</td>\n",
       "      <td>0</td>\n",
       "      <td>0</td>\n",
       "      <td>NaN</td>\n",
       "    </tr>\n",
       "    <tr>\n",
       "      <th>1</th>\n",
       "      <td>197000000002</td>\n",
       "      <td>1970</td>\n",
       "      <td>0</td>\n",
       "      <td>0</td>\n",
       "      <td>NaN</td>\n",
       "      <td>0</td>\n",
       "      <td>NaN</td>\n",
       "      <td>130</td>\n",
       "      <td>Mexico</td>\n",
       "      <td>1</td>\n",
       "      <td>...</td>\n",
       "      <td>NaN</td>\n",
       "      <td>NaN</td>\n",
       "      <td>NaN</td>\n",
       "      <td>NaN</td>\n",
       "      <td>PGIS</td>\n",
       "      <td>0</td>\n",
       "      <td>1</td>\n",
       "      <td>1</td>\n",
       "      <td>1</td>\n",
       "      <td>NaN</td>\n",
       "    </tr>\n",
       "    <tr>\n",
       "      <th>2</th>\n",
       "      <td>197001000001</td>\n",
       "      <td>1970</td>\n",
       "      <td>1</td>\n",
       "      <td>0</td>\n",
       "      <td>NaN</td>\n",
       "      <td>0</td>\n",
       "      <td>NaN</td>\n",
       "      <td>160</td>\n",
       "      <td>Philippines</td>\n",
       "      <td>5</td>\n",
       "      <td>...</td>\n",
       "      <td>NaN</td>\n",
       "      <td>NaN</td>\n",
       "      <td>NaN</td>\n",
       "      <td>NaN</td>\n",
       "      <td>PGIS</td>\n",
       "      <td>-9</td>\n",
       "      <td>-9</td>\n",
       "      <td>1</td>\n",
       "      <td>1</td>\n",
       "      <td>NaN</td>\n",
       "    </tr>\n",
       "    <tr>\n",
       "      <th>3</th>\n",
       "      <td>197001000002</td>\n",
       "      <td>1970</td>\n",
       "      <td>1</td>\n",
       "      <td>0</td>\n",
       "      <td>NaN</td>\n",
       "      <td>0</td>\n",
       "      <td>NaN</td>\n",
       "      <td>78</td>\n",
       "      <td>Greece</td>\n",
       "      <td>8</td>\n",
       "      <td>...</td>\n",
       "      <td>NaN</td>\n",
       "      <td>NaN</td>\n",
       "      <td>NaN</td>\n",
       "      <td>NaN</td>\n",
       "      <td>PGIS</td>\n",
       "      <td>-9</td>\n",
       "      <td>-9</td>\n",
       "      <td>1</td>\n",
       "      <td>1</td>\n",
       "      <td>NaN</td>\n",
       "    </tr>\n",
       "    <tr>\n",
       "      <th>4</th>\n",
       "      <td>197001000003</td>\n",
       "      <td>1970</td>\n",
       "      <td>1</td>\n",
       "      <td>0</td>\n",
       "      <td>NaN</td>\n",
       "      <td>0</td>\n",
       "      <td>NaN</td>\n",
       "      <td>101</td>\n",
       "      <td>Japan</td>\n",
       "      <td>4</td>\n",
       "      <td>...</td>\n",
       "      <td>NaN</td>\n",
       "      <td>NaN</td>\n",
       "      <td>NaN</td>\n",
       "      <td>NaN</td>\n",
       "      <td>PGIS</td>\n",
       "      <td>-9</td>\n",
       "      <td>-9</td>\n",
       "      <td>1</td>\n",
       "      <td>1</td>\n",
       "      <td>NaN</td>\n",
       "    </tr>\n",
       "  </tbody>\n",
       "</table>\n",
       "<p>5 rows × 135 columns</p>\n",
       "</div>"
      ],
      "text/plain": [
       "        eventid  iyear  imonth  iday approxdate  extended resolution  country  \\\n",
       "0  197000000001   1970       7     2        NaN         0        NaN       58   \n",
       "1  197000000002   1970       0     0        NaN         0        NaN      130   \n",
       "2  197001000001   1970       1     0        NaN         0        NaN      160   \n",
       "3  197001000002   1970       1     0        NaN         0        NaN       78   \n",
       "4  197001000003   1970       1     0        NaN         0        NaN      101   \n",
       "\n",
       "          country_txt  region  ... addnotes scite1 scite2  scite3  dbsource  \\\n",
       "0  Dominican Republic       2  ...      NaN    NaN    NaN     NaN      PGIS   \n",
       "1              Mexico       1  ...      NaN    NaN    NaN     NaN      PGIS   \n",
       "2         Philippines       5  ...      NaN    NaN    NaN     NaN      PGIS   \n",
       "3              Greece       8  ...      NaN    NaN    NaN     NaN      PGIS   \n",
       "4               Japan       4  ...      NaN    NaN    NaN     NaN      PGIS   \n",
       "\n",
       "   INT_LOG  INT_IDEO INT_MISC INT_ANY  related  \n",
       "0        0         0        0       0      NaN  \n",
       "1        0         1        1       1      NaN  \n",
       "2       -9        -9        1       1      NaN  \n",
       "3       -9        -9        1       1      NaN  \n",
       "4       -9        -9        1       1      NaN  \n",
       "\n",
       "[5 rows x 135 columns]"
      ]
     },
     "execution_count": 3,
     "metadata": {},
     "output_type": "execute_result"
    }
   ],
   "source": [
    "#Check the head value of dataset\n",
    "\n",
    "data.head()"
   ]
  },
  {
   "cell_type": "code",
   "execution_count": 4,
   "id": "a9898258",
   "metadata": {},
   "outputs": [
    {
     "data": {
      "text/plain": [
       "(181691, 135)"
      ]
     },
     "execution_count": 4,
     "metadata": {},
     "output_type": "execute_result"
    }
   ],
   "source": [
    "#Shape of dataset i.e no. of records and attributes affecting that\n",
    "\n",
    "data.shape"
   ]
  },
  {
   "cell_type": "code",
   "execution_count": 5,
   "id": "9333d95d",
   "metadata": {},
   "outputs": [
    {
     "data": {
      "text/plain": [
       "<bound method NDFrame.describe of              eventid  iyear  imonth  iday approxdate  extended resolution  \\\n",
       "0       197000000001   1970       7     2        NaN         0        NaN   \n",
       "1       197000000002   1970       0     0        NaN         0        NaN   \n",
       "2       197001000001   1970       1     0        NaN         0        NaN   \n",
       "3       197001000002   1970       1     0        NaN         0        NaN   \n",
       "4       197001000003   1970       1     0        NaN         0        NaN   \n",
       "...              ...    ...     ...   ...        ...       ...        ...   \n",
       "181686  201712310022   2017      12    31        NaN         0        NaN   \n",
       "181687  201712310029   2017      12    31        NaN         0        NaN   \n",
       "181688  201712310030   2017      12    31        NaN         0        NaN   \n",
       "181689  201712310031   2017      12    31        NaN         0        NaN   \n",
       "181690  201712310032   2017      12    31        NaN         0        NaN   \n",
       "\n",
       "        country         country_txt  region  ... addnotes  \\\n",
       "0            58  Dominican Republic       2  ...      NaN   \n",
       "1           130              Mexico       1  ...      NaN   \n",
       "2           160         Philippines       5  ...      NaN   \n",
       "3            78              Greece       8  ...      NaN   \n",
       "4           101               Japan       4  ...      NaN   \n",
       "...         ...                 ...     ...  ...      ...   \n",
       "181686      182             Somalia      11  ...      NaN   \n",
       "181687      200               Syria      10  ...      NaN   \n",
       "181688      160         Philippines       5  ...      NaN   \n",
       "181689       92               India       6  ...      NaN   \n",
       "181690      160         Philippines       5  ...      NaN   \n",
       "\n",
       "                                                   scite1  \\\n",
       "0                                                     NaN   \n",
       "1                                                     NaN   \n",
       "2                                                     NaN   \n",
       "3                                                     NaN   \n",
       "4                                                     NaN   \n",
       "...                                                   ...   \n",
       "181686  \"Somalia: Al-Shabaab Militants Attack Army Che...   \n",
       "181687  \"Putin's 'victory' in Syria has turned into a ...   \n",
       "181688  \"Maguindanao clashes trap tribe members,\" Phil...   \n",
       "181689  \"Trader escapes grenade attack in Imphal,\" Bus...   \n",
       "181690  \"Security tightened in Cotabato following IED ...   \n",
       "\n",
       "                                                   scite2  \\\n",
       "0                                                     NaN   \n",
       "1                                                     NaN   \n",
       "2                                                     NaN   \n",
       "3                                                     NaN   \n",
       "4                                                     NaN   \n",
       "...                                                   ...   \n",
       "181686  \"Highlights: Somalia Daily Media Highlights 2 ...   \n",
       "181687  \"Two Russian soldiers killed at Hmeymim base i...   \n",
       "181688                                                NaN   \n",
       "181689                                                NaN   \n",
       "181690  \"Security tightened in Cotabato City,\" Manila ...   \n",
       "\n",
       "                                                   scite3  \\\n",
       "0                                                     NaN   \n",
       "1                                                     NaN   \n",
       "2                                                     NaN   \n",
       "3                                                     NaN   \n",
       "4                                                     NaN   \n",
       "...                                                   ...   \n",
       "181686  \"Highlights: Somalia Daily Media Highlights 1 ...   \n",
       "181687  \"Two Russian servicemen killed in Syria mortar...   \n",
       "181688                                                NaN   \n",
       "181689                                                NaN   \n",
       "181690                                                NaN   \n",
       "\n",
       "                        dbsource  INT_LOG  INT_IDEO INT_MISC INT_ANY  related  \n",
       "0                           PGIS        0         0        0       0      NaN  \n",
       "1                           PGIS        0         1        1       1      NaN  \n",
       "2                           PGIS       -9        -9        1       1      NaN  \n",
       "3                           PGIS       -9        -9        1       1      NaN  \n",
       "4                           PGIS       -9        -9        1       1      NaN  \n",
       "...                          ...      ...       ...      ...     ...      ...  \n",
       "181686  START Primary Collection        0         0        0       0      NaN  \n",
       "181687  START Primary Collection       -9        -9        1       1      NaN  \n",
       "181688  START Primary Collection        0         0        0       0      NaN  \n",
       "181689  START Primary Collection       -9        -9        0      -9      NaN  \n",
       "181690  START Primary Collection       -9        -9        0      -9      NaN  \n",
       "\n",
       "[181691 rows x 135 columns]>"
      ]
     },
     "execution_count": 5,
     "metadata": {},
     "output_type": "execute_result"
    }
   ],
   "source": [
    "# Get the summary of dataset\n",
    "data.describe"
   ]
  },
  {
   "cell_type": "code",
   "execution_count": 6,
   "id": "a14422ab",
   "metadata": {},
   "outputs": [
    {
     "data": {
      "text/plain": [
       "eventid        int64\n",
       "iyear          int64\n",
       "imonth         int64\n",
       "iday           int64\n",
       "approxdate    object\n",
       "               ...  \n",
       "INT_LOG        int64\n",
       "INT_IDEO       int64\n",
       "INT_MISC       int64\n",
       "INT_ANY        int64\n",
       "related       object\n",
       "Length: 135, dtype: object"
      ]
     },
     "execution_count": 6,
     "metadata": {},
     "output_type": "execute_result"
    }
   ],
   "source": [
    "#Checking datatype of all the attributes\n",
    "data.dtypes"
   ]
  },
  {
   "cell_type": "code",
   "execution_count": 7,
   "id": "e87e9c93",
   "metadata": {},
   "outputs": [
    {
     "data": {
      "text/plain": [
       "0         NaN\n",
       "1         NaN\n",
       "2         NaN\n",
       "3         NaN\n",
       "4         NaN\n",
       "         ... \n",
       "181686    NaN\n",
       "181687    NaN\n",
       "181688    NaN\n",
       "181689    NaN\n",
       "181690    NaN\n",
       "Name: approxdate, Length: 181691, dtype: object"
      ]
     },
     "execution_count": 7,
     "metadata": {},
     "output_type": "execute_result"
    }
   ],
   "source": [
    "data['approxdate']"
   ]
  },
  {
   "cell_type": "code",
   "execution_count": 8,
   "id": "05c604ea",
   "metadata": {},
   "outputs": [
    {
     "data": {
      "text/plain": [
       "eventid            0\n",
       "iyear              0\n",
       "imonth             0\n",
       "iday               0\n",
       "approxdate    172452\n",
       "               ...  \n",
       "INT_LOG            0\n",
       "INT_IDEO           0\n",
       "INT_MISC           0\n",
       "INT_ANY            0\n",
       "related       156653\n",
       "Length: 135, dtype: int64"
      ]
     },
     "execution_count": 8,
     "metadata": {},
     "output_type": "execute_result"
    }
   ],
   "source": [
    "#Total null values in each column\n",
    "data.isnull().sum()"
   ]
  },
  {
   "cell_type": "code",
   "execution_count": 9,
   "id": "38cecdfc",
   "metadata": {},
   "outputs": [
    {
     "data": {
      "text/plain": [
       "13853997"
      ]
     },
     "execution_count": 9,
     "metadata": {},
     "output_type": "execute_result"
    }
   ],
   "source": [
    "#Total null values in each column\n",
    "(data.isnull().sum()).sum()"
   ]
  },
  {
   "cell_type": "code",
   "execution_count": 10,
   "id": "50f5277d",
   "metadata": {},
   "outputs": [
    {
     "data": {
      "text/html": [
       "<div>\n",
       "<style scoped>\n",
       "    .dataframe tbody tr th:only-of-type {\n",
       "        vertical-align: middle;\n",
       "    }\n",
       "\n",
       "    .dataframe tbody tr th {\n",
       "        vertical-align: top;\n",
       "    }\n",
       "\n",
       "    .dataframe thead th {\n",
       "        text-align: right;\n",
       "    }\n",
       "</style>\n",
       "<table border=\"1\" class=\"dataframe\">\n",
       "  <thead>\n",
       "    <tr style=\"text-align: right;\">\n",
       "      <th></th>\n",
       "      <th>eventid</th>\n",
       "      <th>iyear</th>\n",
       "      <th>imonth</th>\n",
       "      <th>iday</th>\n",
       "      <th>approxdate</th>\n",
       "      <th>extended</th>\n",
       "      <th>resolution</th>\n",
       "      <th>country</th>\n",
       "      <th>country_txt</th>\n",
       "      <th>region</th>\n",
       "      <th>...</th>\n",
       "      <th>addnotes</th>\n",
       "      <th>scite1</th>\n",
       "      <th>scite2</th>\n",
       "      <th>scite3</th>\n",
       "      <th>dbsource</th>\n",
       "      <th>INT_LOG</th>\n",
       "      <th>INT_IDEO</th>\n",
       "      <th>INT_MISC</th>\n",
       "      <th>INT_ANY</th>\n",
       "      <th>related</th>\n",
       "    </tr>\n",
       "  </thead>\n",
       "  <tbody>\n",
       "    <tr>\n",
       "      <th>0</th>\n",
       "      <td>197000000001</td>\n",
       "      <td>1970</td>\n",
       "      <td>7</td>\n",
       "      <td>2</td>\n",
       "      <td>NaN</td>\n",
       "      <td>0</td>\n",
       "      <td>NaN</td>\n",
       "      <td>58</td>\n",
       "      <td>Dominican Republic</td>\n",
       "      <td>2</td>\n",
       "      <td>...</td>\n",
       "      <td>NaN</td>\n",
       "      <td>NaN</td>\n",
       "      <td>NaN</td>\n",
       "      <td>NaN</td>\n",
       "      <td>PGIS</td>\n",
       "      <td>0</td>\n",
       "      <td>0</td>\n",
       "      <td>0</td>\n",
       "      <td>0</td>\n",
       "      <td>NaN</td>\n",
       "    </tr>\n",
       "    <tr>\n",
       "      <th>1</th>\n",
       "      <td>197000000002</td>\n",
       "      <td>1970</td>\n",
       "      <td>0</td>\n",
       "      <td>0</td>\n",
       "      <td>NaN</td>\n",
       "      <td>0</td>\n",
       "      <td>NaN</td>\n",
       "      <td>130</td>\n",
       "      <td>Mexico</td>\n",
       "      <td>1</td>\n",
       "      <td>...</td>\n",
       "      <td>NaN</td>\n",
       "      <td>NaN</td>\n",
       "      <td>NaN</td>\n",
       "      <td>NaN</td>\n",
       "      <td>PGIS</td>\n",
       "      <td>0</td>\n",
       "      <td>1</td>\n",
       "      <td>1</td>\n",
       "      <td>1</td>\n",
       "      <td>NaN</td>\n",
       "    </tr>\n",
       "    <tr>\n",
       "      <th>2</th>\n",
       "      <td>197001000001</td>\n",
       "      <td>1970</td>\n",
       "      <td>1</td>\n",
       "      <td>0</td>\n",
       "      <td>NaN</td>\n",
       "      <td>0</td>\n",
       "      <td>NaN</td>\n",
       "      <td>160</td>\n",
       "      <td>Philippines</td>\n",
       "      <td>5</td>\n",
       "      <td>...</td>\n",
       "      <td>NaN</td>\n",
       "      <td>NaN</td>\n",
       "      <td>NaN</td>\n",
       "      <td>NaN</td>\n",
       "      <td>PGIS</td>\n",
       "      <td>-9</td>\n",
       "      <td>-9</td>\n",
       "      <td>1</td>\n",
       "      <td>1</td>\n",
       "      <td>NaN</td>\n",
       "    </tr>\n",
       "    <tr>\n",
       "      <th>3</th>\n",
       "      <td>197001000002</td>\n",
       "      <td>1970</td>\n",
       "      <td>1</td>\n",
       "      <td>0</td>\n",
       "      <td>NaN</td>\n",
       "      <td>0</td>\n",
       "      <td>NaN</td>\n",
       "      <td>78</td>\n",
       "      <td>Greece</td>\n",
       "      <td>8</td>\n",
       "      <td>...</td>\n",
       "      <td>NaN</td>\n",
       "      <td>NaN</td>\n",
       "      <td>NaN</td>\n",
       "      <td>NaN</td>\n",
       "      <td>PGIS</td>\n",
       "      <td>-9</td>\n",
       "      <td>-9</td>\n",
       "      <td>1</td>\n",
       "      <td>1</td>\n",
       "      <td>NaN</td>\n",
       "    </tr>\n",
       "    <tr>\n",
       "      <th>4</th>\n",
       "      <td>197001000003</td>\n",
       "      <td>1970</td>\n",
       "      <td>1</td>\n",
       "      <td>0</td>\n",
       "      <td>NaN</td>\n",
       "      <td>0</td>\n",
       "      <td>NaN</td>\n",
       "      <td>101</td>\n",
       "      <td>Japan</td>\n",
       "      <td>4</td>\n",
       "      <td>...</td>\n",
       "      <td>NaN</td>\n",
       "      <td>NaN</td>\n",
       "      <td>NaN</td>\n",
       "      <td>NaN</td>\n",
       "      <td>PGIS</td>\n",
       "      <td>-9</td>\n",
       "      <td>-9</td>\n",
       "      <td>1</td>\n",
       "      <td>1</td>\n",
       "      <td>NaN</td>\n",
       "    </tr>\n",
       "  </tbody>\n",
       "</table>\n",
       "<p>5 rows × 135 columns</p>\n",
       "</div>"
      ],
      "text/plain": [
       "        eventid  iyear  imonth  iday approxdate  extended resolution  country  \\\n",
       "0  197000000001   1970       7     2        NaN         0        NaN       58   \n",
       "1  197000000002   1970       0     0        NaN         0        NaN      130   \n",
       "2  197001000001   1970       1     0        NaN         0        NaN      160   \n",
       "3  197001000002   1970       1     0        NaN         0        NaN       78   \n",
       "4  197001000003   1970       1     0        NaN         0        NaN      101   \n",
       "\n",
       "          country_txt  region  ... addnotes scite1 scite2  scite3  dbsource  \\\n",
       "0  Dominican Republic       2  ...      NaN    NaN    NaN     NaN      PGIS   \n",
       "1              Mexico       1  ...      NaN    NaN    NaN     NaN      PGIS   \n",
       "2         Philippines       5  ...      NaN    NaN    NaN     NaN      PGIS   \n",
       "3              Greece       8  ...      NaN    NaN    NaN     NaN      PGIS   \n",
       "4               Japan       4  ...      NaN    NaN    NaN     NaN      PGIS   \n",
       "\n",
       "   INT_LOG  INT_IDEO INT_MISC INT_ANY  related  \n",
       "0        0         0        0       0      NaN  \n",
       "1        0         1        1       1      NaN  \n",
       "2       -9        -9        1       1      NaN  \n",
       "3       -9        -9        1       1      NaN  \n",
       "4       -9        -9        1       1      NaN  \n",
       "\n",
       "[5 rows x 135 columns]"
      ]
     },
     "execution_count": 10,
     "metadata": {},
     "output_type": "execute_result"
    }
   ],
   "source": [
    "data.head()"
   ]
  },
  {
   "cell_type": "code",
   "execution_count": 36,
   "id": "d1414b0e",
   "metadata": {},
   "outputs": [],
   "source": [
    "#Creating new dataset with necessary attributes only\n",
    "\n",
    "data_new = data[['iyear','imonth','iday','country_txt','provstate','region_txt','attacktype1',\n",
    "                'target1','nkill','nwound','weaptype1_txt','gname','motive','latitude','longitude']]"
   ]
  },
  {
   "cell_type": "code",
   "execution_count": 37,
   "id": "359ab2cb",
   "metadata": {},
   "outputs": [
    {
     "data": {
      "text/html": [
       "<div>\n",
       "<style scoped>\n",
       "    .dataframe tbody tr th:only-of-type {\n",
       "        vertical-align: middle;\n",
       "    }\n",
       "\n",
       "    .dataframe tbody tr th {\n",
       "        vertical-align: top;\n",
       "    }\n",
       "\n",
       "    .dataframe thead th {\n",
       "        text-align: right;\n",
       "    }\n",
       "</style>\n",
       "<table border=\"1\" class=\"dataframe\">\n",
       "  <thead>\n",
       "    <tr style=\"text-align: right;\">\n",
       "      <th></th>\n",
       "      <th>iyear</th>\n",
       "      <th>imonth</th>\n",
       "      <th>iday</th>\n",
       "      <th>country_txt</th>\n",
       "      <th>provstate</th>\n",
       "      <th>region_txt</th>\n",
       "      <th>attacktype1</th>\n",
       "      <th>target1</th>\n",
       "      <th>nkill</th>\n",
       "      <th>nwound</th>\n",
       "      <th>weaptype1_txt</th>\n",
       "      <th>gname</th>\n",
       "      <th>motive</th>\n",
       "      <th>latitude</th>\n",
       "      <th>longitude</th>\n",
       "    </tr>\n",
       "  </thead>\n",
       "  <tbody>\n",
       "    <tr>\n",
       "      <th>0</th>\n",
       "      <td>1970</td>\n",
       "      <td>7</td>\n",
       "      <td>2</td>\n",
       "      <td>Dominican Republic</td>\n",
       "      <td>NaN</td>\n",
       "      <td>Central America &amp; Caribbean</td>\n",
       "      <td>1</td>\n",
       "      <td>Julio Guzman</td>\n",
       "      <td>1.0</td>\n",
       "      <td>0.0</td>\n",
       "      <td>Unknown</td>\n",
       "      <td>MANO-D</td>\n",
       "      <td>NaN</td>\n",
       "      <td>18.456792</td>\n",
       "      <td>-69.951164</td>\n",
       "    </tr>\n",
       "    <tr>\n",
       "      <th>1</th>\n",
       "      <td>1970</td>\n",
       "      <td>0</td>\n",
       "      <td>0</td>\n",
       "      <td>Mexico</td>\n",
       "      <td>Federal</td>\n",
       "      <td>North America</td>\n",
       "      <td>6</td>\n",
       "      <td>Nadine Chaval, daughter</td>\n",
       "      <td>0.0</td>\n",
       "      <td>0.0</td>\n",
       "      <td>Unknown</td>\n",
       "      <td>23rd of September Communist League</td>\n",
       "      <td>NaN</td>\n",
       "      <td>19.371887</td>\n",
       "      <td>-99.086624</td>\n",
       "    </tr>\n",
       "    <tr>\n",
       "      <th>2</th>\n",
       "      <td>1970</td>\n",
       "      <td>1</td>\n",
       "      <td>0</td>\n",
       "      <td>Philippines</td>\n",
       "      <td>Tarlac</td>\n",
       "      <td>Southeast Asia</td>\n",
       "      <td>1</td>\n",
       "      <td>Employee</td>\n",
       "      <td>1.0</td>\n",
       "      <td>0.0</td>\n",
       "      <td>Unknown</td>\n",
       "      <td>Unknown</td>\n",
       "      <td>NaN</td>\n",
       "      <td>15.478598</td>\n",
       "      <td>120.599741</td>\n",
       "    </tr>\n",
       "    <tr>\n",
       "      <th>3</th>\n",
       "      <td>1970</td>\n",
       "      <td>1</td>\n",
       "      <td>0</td>\n",
       "      <td>Greece</td>\n",
       "      <td>Attica</td>\n",
       "      <td>Western Europe</td>\n",
       "      <td>3</td>\n",
       "      <td>U.S. Embassy</td>\n",
       "      <td>NaN</td>\n",
       "      <td>NaN</td>\n",
       "      <td>Explosives</td>\n",
       "      <td>Unknown</td>\n",
       "      <td>NaN</td>\n",
       "      <td>37.997490</td>\n",
       "      <td>23.762728</td>\n",
       "    </tr>\n",
       "    <tr>\n",
       "      <th>4</th>\n",
       "      <td>1970</td>\n",
       "      <td>1</td>\n",
       "      <td>0</td>\n",
       "      <td>Japan</td>\n",
       "      <td>Fukouka</td>\n",
       "      <td>East Asia</td>\n",
       "      <td>7</td>\n",
       "      <td>U.S. Consulate</td>\n",
       "      <td>NaN</td>\n",
       "      <td>NaN</td>\n",
       "      <td>Incendiary</td>\n",
       "      <td>Unknown</td>\n",
       "      <td>NaN</td>\n",
       "      <td>33.580412</td>\n",
       "      <td>130.396361</td>\n",
       "    </tr>\n",
       "  </tbody>\n",
       "</table>\n",
       "</div>"
      ],
      "text/plain": [
       "   iyear  imonth  iday         country_txt provstate  \\\n",
       "0   1970       7     2  Dominican Republic       NaN   \n",
       "1   1970       0     0              Mexico   Federal   \n",
       "2   1970       1     0         Philippines    Tarlac   \n",
       "3   1970       1     0              Greece    Attica   \n",
       "4   1970       1     0               Japan   Fukouka   \n",
       "\n",
       "                    region_txt  attacktype1                  target1  nkill  \\\n",
       "0  Central America & Caribbean            1             Julio Guzman    1.0   \n",
       "1                North America            6  Nadine Chaval, daughter    0.0   \n",
       "2               Southeast Asia            1                 Employee    1.0   \n",
       "3               Western Europe            3             U.S. Embassy    NaN   \n",
       "4                    East Asia            7           U.S. Consulate    NaN   \n",
       "\n",
       "   nwound weaptype1_txt                               gname motive   latitude  \\\n",
       "0     0.0       Unknown                              MANO-D    NaN  18.456792   \n",
       "1     0.0       Unknown  23rd of September Communist League    NaN  19.371887   \n",
       "2     0.0       Unknown                             Unknown    NaN  15.478598   \n",
       "3     NaN    Explosives                             Unknown    NaN  37.997490   \n",
       "4     NaN    Incendiary                             Unknown    NaN  33.580412   \n",
       "\n",
       "    longitude  \n",
       "0  -69.951164  \n",
       "1  -99.086624  \n",
       "2  120.599741  \n",
       "3   23.762728  \n",
       "4  130.396361  "
      ]
     },
     "execution_count": 37,
     "metadata": {},
     "output_type": "execute_result"
    }
   ],
   "source": [
    "data_new.head()"
   ]
  },
  {
   "cell_type": "code",
   "execution_count": 13,
   "id": "c6265bb9",
   "metadata": {},
   "outputs": [
    {
     "data": {
      "text/plain": [
       "(181691, 13)"
      ]
     },
     "execution_count": 13,
     "metadata": {},
     "output_type": "execute_result"
    }
   ],
   "source": [
    "data_new.shape"
   ]
  },
  {
   "cell_type": "code",
   "execution_count": 59,
   "id": "b368fbdf",
   "metadata": {},
   "outputs": [
    {
     "data": {
      "text/html": [
       "<div>\n",
       "<style scoped>\n",
       "    .dataframe tbody tr th:only-of-type {\n",
       "        vertical-align: middle;\n",
       "    }\n",
       "\n",
       "    .dataframe tbody tr th {\n",
       "        vertical-align: top;\n",
       "    }\n",
       "\n",
       "    .dataframe thead th {\n",
       "        text-align: right;\n",
       "    }\n",
       "</style>\n",
       "<table border=\"1\" class=\"dataframe\">\n",
       "  <thead>\n",
       "    <tr style=\"text-align: right;\">\n",
       "      <th></th>\n",
       "      <th>Year</th>\n",
       "      <th>Month</th>\n",
       "      <th>Day</th>\n",
       "      <th>Country</th>\n",
       "      <th>State</th>\n",
       "      <th>Region</th>\n",
       "      <th>Attacks</th>\n",
       "      <th>Target</th>\n",
       "      <th>People Killed</th>\n",
       "      <th>Wounded</th>\n",
       "      <th>Weapon Type</th>\n",
       "      <th>Group</th>\n",
       "      <th>Motive</th>\n",
       "      <th>Latitude</th>\n",
       "      <th>Longitude</th>\n",
       "    </tr>\n",
       "  </thead>\n",
       "  <tbody>\n",
       "    <tr>\n",
       "      <th>0</th>\n",
       "      <td>1970</td>\n",
       "      <td>7</td>\n",
       "      <td>2</td>\n",
       "      <td>Dominican Republic</td>\n",
       "      <td>NaN</td>\n",
       "      <td>Central America &amp; Caribbean</td>\n",
       "      <td>1</td>\n",
       "      <td>Julio Guzman</td>\n",
       "      <td>1.0</td>\n",
       "      <td>0.0</td>\n",
       "      <td>Unknown</td>\n",
       "      <td>MANO-D</td>\n",
       "      <td>NaN</td>\n",
       "      <td>18.456792</td>\n",
       "      <td>-69.951164</td>\n",
       "    </tr>\n",
       "    <tr>\n",
       "      <th>1</th>\n",
       "      <td>1970</td>\n",
       "      <td>0</td>\n",
       "      <td>0</td>\n",
       "      <td>Mexico</td>\n",
       "      <td>Federal</td>\n",
       "      <td>North America</td>\n",
       "      <td>6</td>\n",
       "      <td>Nadine Chaval, daughter</td>\n",
       "      <td>0.0</td>\n",
       "      <td>0.0</td>\n",
       "      <td>Unknown</td>\n",
       "      <td>23rd of September Communist League</td>\n",
       "      <td>NaN</td>\n",
       "      <td>19.371887</td>\n",
       "      <td>-99.086624</td>\n",
       "    </tr>\n",
       "    <tr>\n",
       "      <th>2</th>\n",
       "      <td>1970</td>\n",
       "      <td>1</td>\n",
       "      <td>0</td>\n",
       "      <td>Philippines</td>\n",
       "      <td>Tarlac</td>\n",
       "      <td>Southeast Asia</td>\n",
       "      <td>1</td>\n",
       "      <td>Employee</td>\n",
       "      <td>1.0</td>\n",
       "      <td>0.0</td>\n",
       "      <td>Unknown</td>\n",
       "      <td>Unknown</td>\n",
       "      <td>NaN</td>\n",
       "      <td>15.478598</td>\n",
       "      <td>120.599741</td>\n",
       "    </tr>\n",
       "    <tr>\n",
       "      <th>3</th>\n",
       "      <td>1970</td>\n",
       "      <td>1</td>\n",
       "      <td>0</td>\n",
       "      <td>Greece</td>\n",
       "      <td>Attica</td>\n",
       "      <td>Western Europe</td>\n",
       "      <td>3</td>\n",
       "      <td>U.S. Embassy</td>\n",
       "      <td>NaN</td>\n",
       "      <td>NaN</td>\n",
       "      <td>Explosives</td>\n",
       "      <td>Unknown</td>\n",
       "      <td>NaN</td>\n",
       "      <td>37.997490</td>\n",
       "      <td>23.762728</td>\n",
       "    </tr>\n",
       "    <tr>\n",
       "      <th>4</th>\n",
       "      <td>1970</td>\n",
       "      <td>1</td>\n",
       "      <td>0</td>\n",
       "      <td>Japan</td>\n",
       "      <td>Fukouka</td>\n",
       "      <td>East Asia</td>\n",
       "      <td>7</td>\n",
       "      <td>U.S. Consulate</td>\n",
       "      <td>NaN</td>\n",
       "      <td>NaN</td>\n",
       "      <td>Incendiary</td>\n",
       "      <td>Unknown</td>\n",
       "      <td>NaN</td>\n",
       "      <td>33.580412</td>\n",
       "      <td>130.396361</td>\n",
       "    </tr>\n",
       "    <tr>\n",
       "      <th>...</th>\n",
       "      <td>...</td>\n",
       "      <td>...</td>\n",
       "      <td>...</td>\n",
       "      <td>...</td>\n",
       "      <td>...</td>\n",
       "      <td>...</td>\n",
       "      <td>...</td>\n",
       "      <td>...</td>\n",
       "      <td>...</td>\n",
       "      <td>...</td>\n",
       "      <td>...</td>\n",
       "      <td>...</td>\n",
       "      <td>...</td>\n",
       "      <td>...</td>\n",
       "      <td>...</td>\n",
       "    </tr>\n",
       "    <tr>\n",
       "      <th>181686</th>\n",
       "      <td>2017</td>\n",
       "      <td>12</td>\n",
       "      <td>31</td>\n",
       "      <td>Somalia</td>\n",
       "      <td>Middle Shebelle</td>\n",
       "      <td>Sub-Saharan Africa</td>\n",
       "      <td>2</td>\n",
       "      <td>Checkpoint</td>\n",
       "      <td>1.0</td>\n",
       "      <td>2.0</td>\n",
       "      <td>Firearms</td>\n",
       "      <td>Al-Shabaab</td>\n",
       "      <td>NaN</td>\n",
       "      <td>2.359673</td>\n",
       "      <td>45.385034</td>\n",
       "    </tr>\n",
       "    <tr>\n",
       "      <th>181687</th>\n",
       "      <td>2017</td>\n",
       "      <td>12</td>\n",
       "      <td>31</td>\n",
       "      <td>Syria</td>\n",
       "      <td>Lattakia</td>\n",
       "      <td>Middle East &amp; North Africa</td>\n",
       "      <td>3</td>\n",
       "      <td>Hmeymim Air Base</td>\n",
       "      <td>2.0</td>\n",
       "      <td>7.0</td>\n",
       "      <td>Explosives</td>\n",
       "      <td>Muslim extremists</td>\n",
       "      <td>NaN</td>\n",
       "      <td>35.407278</td>\n",
       "      <td>35.942679</td>\n",
       "    </tr>\n",
       "    <tr>\n",
       "      <th>181688</th>\n",
       "      <td>2017</td>\n",
       "      <td>12</td>\n",
       "      <td>31</td>\n",
       "      <td>Philippines</td>\n",
       "      <td>Maguindanao</td>\n",
       "      <td>Southeast Asia</td>\n",
       "      <td>7</td>\n",
       "      <td>Houses</td>\n",
       "      <td>0.0</td>\n",
       "      <td>0.0</td>\n",
       "      <td>Incendiary</td>\n",
       "      <td>Bangsamoro Islamic Freedom Movement (BIFM)</td>\n",
       "      <td>NaN</td>\n",
       "      <td>6.900742</td>\n",
       "      <td>124.437908</td>\n",
       "    </tr>\n",
       "    <tr>\n",
       "      <th>181689</th>\n",
       "      <td>2017</td>\n",
       "      <td>12</td>\n",
       "      <td>31</td>\n",
       "      <td>India</td>\n",
       "      <td>Manipur</td>\n",
       "      <td>South Asia</td>\n",
       "      <td>3</td>\n",
       "      <td>Office</td>\n",
       "      <td>0.0</td>\n",
       "      <td>0.0</td>\n",
       "      <td>Explosives</td>\n",
       "      <td>Unknown</td>\n",
       "      <td>NaN</td>\n",
       "      <td>24.798346</td>\n",
       "      <td>93.940430</td>\n",
       "    </tr>\n",
       "    <tr>\n",
       "      <th>181690</th>\n",
       "      <td>2017</td>\n",
       "      <td>12</td>\n",
       "      <td>31</td>\n",
       "      <td>Philippines</td>\n",
       "      <td>Maguindanao</td>\n",
       "      <td>Southeast Asia</td>\n",
       "      <td>3</td>\n",
       "      <td>Unknown</td>\n",
       "      <td>0.0</td>\n",
       "      <td>0.0</td>\n",
       "      <td>Explosives</td>\n",
       "      <td>Unknown</td>\n",
       "      <td>NaN</td>\n",
       "      <td>7.209594</td>\n",
       "      <td>124.241966</td>\n",
       "    </tr>\n",
       "  </tbody>\n",
       "</table>\n",
       "<p>181691 rows × 15 columns</p>\n",
       "</div>"
      ],
      "text/plain": [
       "        Year  Month  Day             Country            State  \\\n",
       "0       1970      7    2  Dominican Republic              NaN   \n",
       "1       1970      0    0              Mexico          Federal   \n",
       "2       1970      1    0         Philippines           Tarlac   \n",
       "3       1970      1    0              Greece           Attica   \n",
       "4       1970      1    0               Japan          Fukouka   \n",
       "...      ...    ...  ...                 ...              ...   \n",
       "181686  2017     12   31             Somalia  Middle Shebelle   \n",
       "181687  2017     12   31               Syria         Lattakia   \n",
       "181688  2017     12   31         Philippines      Maguindanao   \n",
       "181689  2017     12   31               India          Manipur   \n",
       "181690  2017     12   31         Philippines      Maguindanao   \n",
       "\n",
       "                             Region  Attacks                   Target  \\\n",
       "0       Central America & Caribbean        1             Julio Guzman   \n",
       "1                     North America        6  Nadine Chaval, daughter   \n",
       "2                    Southeast Asia        1                 Employee   \n",
       "3                    Western Europe        3             U.S. Embassy   \n",
       "4                         East Asia        7           U.S. Consulate   \n",
       "...                             ...      ...                      ...   \n",
       "181686           Sub-Saharan Africa        2               Checkpoint   \n",
       "181687   Middle East & North Africa        3         Hmeymim Air Base   \n",
       "181688               Southeast Asia        7                   Houses   \n",
       "181689                   South Asia        3                   Office   \n",
       "181690               Southeast Asia        3                  Unknown   \n",
       "\n",
       "        People Killed  Wounded Weapon Type  \\\n",
       "0                 1.0      0.0     Unknown   \n",
       "1                 0.0      0.0     Unknown   \n",
       "2                 1.0      0.0     Unknown   \n",
       "3                 NaN      NaN  Explosives   \n",
       "4                 NaN      NaN  Incendiary   \n",
       "...               ...      ...         ...   \n",
       "181686            1.0      2.0    Firearms   \n",
       "181687            2.0      7.0  Explosives   \n",
       "181688            0.0      0.0  Incendiary   \n",
       "181689            0.0      0.0  Explosives   \n",
       "181690            0.0      0.0  Explosives   \n",
       "\n",
       "                                             Group Motive   Latitude  \\\n",
       "0                                           MANO-D    NaN  18.456792   \n",
       "1               23rd of September Communist League    NaN  19.371887   \n",
       "2                                          Unknown    NaN  15.478598   \n",
       "3                                          Unknown    NaN  37.997490   \n",
       "4                                          Unknown    NaN  33.580412   \n",
       "...                                            ...    ...        ...   \n",
       "181686                                  Al-Shabaab    NaN   2.359673   \n",
       "181687                           Muslim extremists    NaN  35.407278   \n",
       "181688  Bangsamoro Islamic Freedom Movement (BIFM)    NaN   6.900742   \n",
       "181689                                     Unknown    NaN  24.798346   \n",
       "181690                                     Unknown    NaN   7.209594   \n",
       "\n",
       "         Longitude  \n",
       "0       -69.951164  \n",
       "1       -99.086624  \n",
       "2       120.599741  \n",
       "3        23.762728  \n",
       "4       130.396361  \n",
       "...            ...  \n",
       "181686   45.385034  \n",
       "181687   35.942679  \n",
       "181688  124.437908  \n",
       "181689   93.940430  \n",
       "181690  124.241966  \n",
       "\n",
       "[181691 rows x 15 columns]"
      ]
     },
     "execution_count": 59,
     "metadata": {},
     "output_type": "execute_result"
    }
   ],
   "source": [
    "#Renaming the attributes\n",
    "\n",
    "data_new.rename(columns={'iyear':'Year','imonth':'Month','iday':'Day','country_txt':\"Country\",\n",
    "                        'provstate':'State','region_txt':'Region','attacktype1':'Attacks',\n",
    "                        'target1':\"Target\",'nkill':'People Killed','weaptype1_txt':'Weapon Type',\n",
    "                        'latitude':'Latitude','gname':\"Group\",'motive':'Motive',\n",
    "                         'longitude':'Longitude','nwound':'Wounded'})"
   ]
  },
  {
   "cell_type": "code",
   "execution_count": 39,
   "id": "7a994c91",
   "metadata": {},
   "outputs": [
    {
     "data": {
      "text/html": [
       "<div>\n",
       "<style scoped>\n",
       "    .dataframe tbody tr th:only-of-type {\n",
       "        vertical-align: middle;\n",
       "    }\n",
       "\n",
       "    .dataframe tbody tr th {\n",
       "        vertical-align: top;\n",
       "    }\n",
       "\n",
       "    .dataframe thead th {\n",
       "        text-align: right;\n",
       "    }\n",
       "</style>\n",
       "<table border=\"1\" class=\"dataframe\">\n",
       "  <thead>\n",
       "    <tr style=\"text-align: right;\">\n",
       "      <th></th>\n",
       "      <th>Year</th>\n",
       "      <th>Month</th>\n",
       "      <th>Day</th>\n",
       "      <th>Country</th>\n",
       "      <th>State</th>\n",
       "      <th>Region</th>\n",
       "      <th>Attacks</th>\n",
       "      <th>Target</th>\n",
       "      <th>People Killed</th>\n",
       "      <th>Wounded</th>\n",
       "      <th>Weapon Type</th>\n",
       "      <th>Group</th>\n",
       "      <th>Motive</th>\n",
       "      <th>Latitude</th>\n",
       "      <th>Longitude</th>\n",
       "    </tr>\n",
       "  </thead>\n",
       "  <tbody>\n",
       "    <tr>\n",
       "      <th>0</th>\n",
       "      <td>1970</td>\n",
       "      <td>7</td>\n",
       "      <td>2</td>\n",
       "      <td>Dominican Republic</td>\n",
       "      <td>NaN</td>\n",
       "      <td>Central America &amp; Caribbean</td>\n",
       "      <td>1</td>\n",
       "      <td>Julio Guzman</td>\n",
       "      <td>1.0</td>\n",
       "      <td>0.0</td>\n",
       "      <td>Unknown</td>\n",
       "      <td>MANO-D</td>\n",
       "      <td>NaN</td>\n",
       "      <td>18.456792</td>\n",
       "      <td>-69.951164</td>\n",
       "    </tr>\n",
       "    <tr>\n",
       "      <th>1</th>\n",
       "      <td>1970</td>\n",
       "      <td>0</td>\n",
       "      <td>0</td>\n",
       "      <td>Mexico</td>\n",
       "      <td>Federal</td>\n",
       "      <td>North America</td>\n",
       "      <td>6</td>\n",
       "      <td>Nadine Chaval, daughter</td>\n",
       "      <td>0.0</td>\n",
       "      <td>0.0</td>\n",
       "      <td>Unknown</td>\n",
       "      <td>23rd of September Communist League</td>\n",
       "      <td>NaN</td>\n",
       "      <td>19.371887</td>\n",
       "      <td>-99.086624</td>\n",
       "    </tr>\n",
       "    <tr>\n",
       "      <th>2</th>\n",
       "      <td>1970</td>\n",
       "      <td>1</td>\n",
       "      <td>0</td>\n",
       "      <td>Philippines</td>\n",
       "      <td>Tarlac</td>\n",
       "      <td>Southeast Asia</td>\n",
       "      <td>1</td>\n",
       "      <td>Employee</td>\n",
       "      <td>1.0</td>\n",
       "      <td>0.0</td>\n",
       "      <td>Unknown</td>\n",
       "      <td>Unknown</td>\n",
       "      <td>NaN</td>\n",
       "      <td>15.478598</td>\n",
       "      <td>120.599741</td>\n",
       "    </tr>\n",
       "    <tr>\n",
       "      <th>3</th>\n",
       "      <td>1970</td>\n",
       "      <td>1</td>\n",
       "      <td>0</td>\n",
       "      <td>Greece</td>\n",
       "      <td>Attica</td>\n",
       "      <td>Western Europe</td>\n",
       "      <td>3</td>\n",
       "      <td>U.S. Embassy</td>\n",
       "      <td>NaN</td>\n",
       "      <td>NaN</td>\n",
       "      <td>Explosives</td>\n",
       "      <td>Unknown</td>\n",
       "      <td>NaN</td>\n",
       "      <td>37.997490</td>\n",
       "      <td>23.762728</td>\n",
       "    </tr>\n",
       "    <tr>\n",
       "      <th>4</th>\n",
       "      <td>1970</td>\n",
       "      <td>1</td>\n",
       "      <td>0</td>\n",
       "      <td>Japan</td>\n",
       "      <td>Fukouka</td>\n",
       "      <td>East Asia</td>\n",
       "      <td>7</td>\n",
       "      <td>U.S. Consulate</td>\n",
       "      <td>NaN</td>\n",
       "      <td>NaN</td>\n",
       "      <td>Incendiary</td>\n",
       "      <td>Unknown</td>\n",
       "      <td>NaN</td>\n",
       "      <td>33.580412</td>\n",
       "      <td>130.396361</td>\n",
       "    </tr>\n",
       "    <tr>\n",
       "      <th>...</th>\n",
       "      <td>...</td>\n",
       "      <td>...</td>\n",
       "      <td>...</td>\n",
       "      <td>...</td>\n",
       "      <td>...</td>\n",
       "      <td>...</td>\n",
       "      <td>...</td>\n",
       "      <td>...</td>\n",
       "      <td>...</td>\n",
       "      <td>...</td>\n",
       "      <td>...</td>\n",
       "      <td>...</td>\n",
       "      <td>...</td>\n",
       "      <td>...</td>\n",
       "      <td>...</td>\n",
       "    </tr>\n",
       "    <tr>\n",
       "      <th>181686</th>\n",
       "      <td>2017</td>\n",
       "      <td>12</td>\n",
       "      <td>31</td>\n",
       "      <td>Somalia</td>\n",
       "      <td>Middle Shebelle</td>\n",
       "      <td>Sub-Saharan Africa</td>\n",
       "      <td>2</td>\n",
       "      <td>Checkpoint</td>\n",
       "      <td>1.0</td>\n",
       "      <td>2.0</td>\n",
       "      <td>Firearms</td>\n",
       "      <td>Al-Shabaab</td>\n",
       "      <td>NaN</td>\n",
       "      <td>2.359673</td>\n",
       "      <td>45.385034</td>\n",
       "    </tr>\n",
       "    <tr>\n",
       "      <th>181687</th>\n",
       "      <td>2017</td>\n",
       "      <td>12</td>\n",
       "      <td>31</td>\n",
       "      <td>Syria</td>\n",
       "      <td>Lattakia</td>\n",
       "      <td>Middle East &amp; North Africa</td>\n",
       "      <td>3</td>\n",
       "      <td>Hmeymim Air Base</td>\n",
       "      <td>2.0</td>\n",
       "      <td>7.0</td>\n",
       "      <td>Explosives</td>\n",
       "      <td>Muslim extremists</td>\n",
       "      <td>NaN</td>\n",
       "      <td>35.407278</td>\n",
       "      <td>35.942679</td>\n",
       "    </tr>\n",
       "    <tr>\n",
       "      <th>181688</th>\n",
       "      <td>2017</td>\n",
       "      <td>12</td>\n",
       "      <td>31</td>\n",
       "      <td>Philippines</td>\n",
       "      <td>Maguindanao</td>\n",
       "      <td>Southeast Asia</td>\n",
       "      <td>7</td>\n",
       "      <td>Houses</td>\n",
       "      <td>0.0</td>\n",
       "      <td>0.0</td>\n",
       "      <td>Incendiary</td>\n",
       "      <td>Bangsamoro Islamic Freedom Movement (BIFM)</td>\n",
       "      <td>NaN</td>\n",
       "      <td>6.900742</td>\n",
       "      <td>124.437908</td>\n",
       "    </tr>\n",
       "    <tr>\n",
       "      <th>181689</th>\n",
       "      <td>2017</td>\n",
       "      <td>12</td>\n",
       "      <td>31</td>\n",
       "      <td>India</td>\n",
       "      <td>Manipur</td>\n",
       "      <td>South Asia</td>\n",
       "      <td>3</td>\n",
       "      <td>Office</td>\n",
       "      <td>0.0</td>\n",
       "      <td>0.0</td>\n",
       "      <td>Explosives</td>\n",
       "      <td>Unknown</td>\n",
       "      <td>NaN</td>\n",
       "      <td>24.798346</td>\n",
       "      <td>93.940430</td>\n",
       "    </tr>\n",
       "    <tr>\n",
       "      <th>181690</th>\n",
       "      <td>2017</td>\n",
       "      <td>12</td>\n",
       "      <td>31</td>\n",
       "      <td>Philippines</td>\n",
       "      <td>Maguindanao</td>\n",
       "      <td>Southeast Asia</td>\n",
       "      <td>3</td>\n",
       "      <td>Unknown</td>\n",
       "      <td>0.0</td>\n",
       "      <td>0.0</td>\n",
       "      <td>Explosives</td>\n",
       "      <td>Unknown</td>\n",
       "      <td>NaN</td>\n",
       "      <td>7.209594</td>\n",
       "      <td>124.241966</td>\n",
       "    </tr>\n",
       "  </tbody>\n",
       "</table>\n",
       "<p>181691 rows × 15 columns</p>\n",
       "</div>"
      ],
      "text/plain": [
       "        Year  Month  Day             Country            State  \\\n",
       "0       1970      7    2  Dominican Republic              NaN   \n",
       "1       1970      0    0              Mexico          Federal   \n",
       "2       1970      1    0         Philippines           Tarlac   \n",
       "3       1970      1    0              Greece           Attica   \n",
       "4       1970      1    0               Japan          Fukouka   \n",
       "...      ...    ...  ...                 ...              ...   \n",
       "181686  2017     12   31             Somalia  Middle Shebelle   \n",
       "181687  2017     12   31               Syria         Lattakia   \n",
       "181688  2017     12   31         Philippines      Maguindanao   \n",
       "181689  2017     12   31               India          Manipur   \n",
       "181690  2017     12   31         Philippines      Maguindanao   \n",
       "\n",
       "                             Region  Attacks                   Target  \\\n",
       "0       Central America & Caribbean        1             Julio Guzman   \n",
       "1                     North America        6  Nadine Chaval, daughter   \n",
       "2                    Southeast Asia        1                 Employee   \n",
       "3                    Western Europe        3             U.S. Embassy   \n",
       "4                         East Asia        7           U.S. Consulate   \n",
       "...                             ...      ...                      ...   \n",
       "181686           Sub-Saharan Africa        2               Checkpoint   \n",
       "181687   Middle East & North Africa        3         Hmeymim Air Base   \n",
       "181688               Southeast Asia        7                   Houses   \n",
       "181689                   South Asia        3                   Office   \n",
       "181690               Southeast Asia        3                  Unknown   \n",
       "\n",
       "        People Killed  Wounded Weapon Type  \\\n",
       "0                 1.0      0.0     Unknown   \n",
       "1                 0.0      0.0     Unknown   \n",
       "2                 1.0      0.0     Unknown   \n",
       "3                 NaN      NaN  Explosives   \n",
       "4                 NaN      NaN  Incendiary   \n",
       "...               ...      ...         ...   \n",
       "181686            1.0      2.0    Firearms   \n",
       "181687            2.0      7.0  Explosives   \n",
       "181688            0.0      0.0  Incendiary   \n",
       "181689            0.0      0.0  Explosives   \n",
       "181690            0.0      0.0  Explosives   \n",
       "\n",
       "                                             Group Motive   Latitude  \\\n",
       "0                                           MANO-D    NaN  18.456792   \n",
       "1               23rd of September Communist League    NaN  19.371887   \n",
       "2                                          Unknown    NaN  15.478598   \n",
       "3                                          Unknown    NaN  37.997490   \n",
       "4                                          Unknown    NaN  33.580412   \n",
       "...                                            ...    ...        ...   \n",
       "181686                                  Al-Shabaab    NaN   2.359673   \n",
       "181687                           Muslim extremists    NaN  35.407278   \n",
       "181688  Bangsamoro Islamic Freedom Movement (BIFM)    NaN   6.900742   \n",
       "181689                                     Unknown    NaN  24.798346   \n",
       "181690                                     Unknown    NaN   7.209594   \n",
       "\n",
       "         Longitude  \n",
       "0       -69.951164  \n",
       "1       -99.086624  \n",
       "2       120.599741  \n",
       "3        23.762728  \n",
       "4       130.396361  \n",
       "...            ...  \n",
       "181686   45.385034  \n",
       "181687   35.942679  \n",
       "181688  124.437908  \n",
       "181689   93.940430  \n",
       "181690  124.241966  \n",
       "\n",
       "[181691 rows x 15 columns]"
      ]
     },
     "execution_count": 39,
     "metadata": {},
     "output_type": "execute_result"
    }
   ],
   "source": [
    "data_new"
   ]
  },
  {
   "cell_type": "code",
   "execution_count": 16,
   "id": "4df9276f",
   "metadata": {},
   "outputs": [
    {
     "name": "stdout",
     "output_type": "stream",
     "text": [
      "<class 'pandas.core.frame.DataFrame'>\n",
      "RangeIndex: 181691 entries, 0 to 181690\n",
      "Data columns (total 13 columns):\n",
      " #   Column         Non-Null Count   Dtype  \n",
      "---  ------         --------------   -----  \n",
      " 0   Year           181691 non-null  int64  \n",
      " 1   Month          181691 non-null  int64  \n",
      " 2   Day            181691 non-null  int64  \n",
      " 3   Country        181691 non-null  object \n",
      " 4   State          181270 non-null  object \n",
      " 5   Region         181691 non-null  object \n",
      " 6   Attacks        181691 non-null  int64  \n",
      " 7   Target         181055 non-null  object \n",
      " 8   People Killed  171378 non-null  float64\n",
      " 9   Wounded        165380 non-null  float64\n",
      " 10  Weapon Type    181691 non-null  object \n",
      " 11  Latitude       177135 non-null  float64\n",
      " 12  Longitude      177134 non-null  float64\n",
      "dtypes: float64(4), int64(4), object(5)\n",
      "memory usage: 18.0+ MB\n"
     ]
    }
   ],
   "source": [
    "#Checking the number of values for each attribute\n",
    "data_new.info()"
   ]
  },
  {
   "cell_type": "code",
   "execution_count": 17,
   "id": "fb105fe7",
   "metadata": {},
   "outputs": [
    {
     "name": "stdout",
     "output_type": "stream",
     "text": [
      "Year 47\n",
      "Month 13\n",
      "Day 32\n",
      "Country 205\n",
      "State 2855\n",
      "Region 12\n",
      "Attacks 9\n",
      "Target 86006\n",
      "People Killed 205\n",
      "Wounded 238\n",
      "Weapon Type 12\n",
      "Latitude 48322\n",
      "Longitude 48039\n"
     ]
    }
   ],
   "source": [
    "#Checking number of unique values for each attribute\n",
    "\n",
    "for i in data_new.columns:\n",
    "    print(i,data_new[i].nunique())"
   ]
  },
  {
   "cell_type": "code",
   "execution_count": 18,
   "id": "1e6f14a3",
   "metadata": {},
   "outputs": [
    {
     "data": {
      "text/plain": [
       "0         0\n",
       "1         0\n",
       "2         0\n",
       "3         0\n",
       "4         0\n",
       "         ..\n",
       "181686    2\n",
       "181687    7\n",
       "181688    0\n",
       "181689    0\n",
       "181690    0\n",
       "Name: Wounded, Length: 181691, dtype: int32"
      ]
     },
     "execution_count": 18,
     "metadata": {},
     "output_type": "execute_result"
    }
   ],
   "source": [
    "#We will fill some null column as 0(where we want to apply algorithms)\n",
    "\n",
    "data_new['People Killed'].fillna(0).astype(int)\n",
    "data_new['Wounded'].fillna(0).astype(int)"
   ]
  },
  {
   "cell_type": "code",
   "execution_count": 19,
   "id": "d449463e",
   "metadata": {},
   "outputs": [
    {
     "name": "stdout",
     "output_type": "stream",
     "text": [
      "<class 'pandas.core.frame.DataFrame'>\n",
      "RangeIndex: 181691 entries, 0 to 181690\n",
      "Data columns (total 13 columns):\n",
      " #   Column         Non-Null Count   Dtype  \n",
      "---  ------         --------------   -----  \n",
      " 0   Year           181691 non-null  int64  \n",
      " 1   Month          181691 non-null  int64  \n",
      " 2   Day            181691 non-null  int64  \n",
      " 3   Country        181691 non-null  object \n",
      " 4   State          181270 non-null  object \n",
      " 5   Region         181691 non-null  object \n",
      " 6   Attacks        181691 non-null  int64  \n",
      " 7   Target         181055 non-null  object \n",
      " 8   People Killed  171378 non-null  float64\n",
      " 9   Wounded        165380 non-null  float64\n",
      " 10  Weapon Type    181691 non-null  object \n",
      " 11  Latitude       177135 non-null  float64\n",
      " 12  Longitude      177134 non-null  float64\n",
      "dtypes: float64(4), int64(4), object(5)\n",
      "memory usage: 18.0+ MB\n"
     ]
    }
   ],
   "source": [
    "#Checking the number of values for each attribute again\n",
    "data_new.info()"
   ]
  },
  {
   "cell_type": "code",
   "execution_count": 20,
   "id": "e103d8b7",
   "metadata": {},
   "outputs": [
    {
     "data": {
      "text/plain": [
       "array(['Assassination', 'Hostage Taking (Kidnapping)',\n",
       "       'Bombing/Explosion', 'Facility/Infrastructure Attack',\n",
       "       'Armed Assault', 'Hijacking', 'Unknown', 'Unarmed Assault',\n",
       "       'Hostage Taking (Barricade Incident)'], dtype=object)"
      ]
     },
     "execution_count": 20,
     "metadata": {},
     "output_type": "execute_result"
    }
   ],
   "source": [
    "#Getting unique names of the different types of attack done\n",
    "data['attacktype1_txt'].unique()"
   ]
  },
  {
   "cell_type": "code",
   "execution_count": 21,
   "id": "0fdd78ab",
   "metadata": {},
   "outputs": [
    {
     "data": {
      "text/plain": [
       "<AxesSubplot:ylabel='Attacks'>"
      ]
     },
     "execution_count": 21,
     "metadata": {},
     "output_type": "execute_result"
    },
    {
     "data": {
      "image/png": "[encoded data removed]",
      "text/plain": [
       "<Figure size 1440x1008 with 1 Axes>"
      ]
     },
     "metadata": {},
     "output_type": "display_data"
    }
   ],
   "source": [
    "#Counting the number of attacks of each type\n",
    "\n",
    "data_new['Attacks'].value_counts().plot.pie(figsize=(20,14),autopct='%.2f',labels=data['attacktype1_txt'].unique())"
   ]
  },
  {
   "cell_type": "markdown",
   "id": "308a8f8f",
   "metadata": {},
   "source": [
    "Here we can see that most common attack is assassination (48.57%), then comes the Hostage Taking attack (23.48%), Bombing attack covers 10.63% of the graph"
   ]
  },
  {
   "cell_type": "code",
   "execution_count": 22,
   "id": "754f14c8",
   "metadata": {},
   "outputs": [
    {
     "data": {
      "text/plain": [
       "Iraq                   24636\n",
       "Pakistan               14368\n",
       "Afghanistan            12731\n",
       "India                  11960\n",
       "Colombia                8306\n",
       "                       ...  \n",
       "International              1\n",
       "Wallis and Futuna          1\n",
       "South Vietnam              1\n",
       "Andorra                    1\n",
       "Antigua and Barbuda        1\n",
       "Name: Country, Length: 205, dtype: int64"
      ]
     },
     "execution_count": 22,
     "metadata": {},
     "output_type": "execute_result"
    }
   ],
   "source": [
    "#Number of terrorist attack (country-wise)\n",
    "\n",
    "data_new.Country.value_counts()"
   ]
  },
  {
   "cell_type": "code",
   "execution_count": 23,
   "id": "5257d4d3",
   "metadata": {},
   "outputs": [
    {
     "data": {
      "image/png": "[encoded data removed]",
      "text/plain": [
       "<Figure size 864x504 with 1 Axes>"
      ]
     },
     "metadata": {
      "needs_background": "light"
     },
     "output_type": "display_data"
    }
   ],
   "source": [
    "plt.figure(figsize=(12,7))\n",
    "plt.bar(data_new['Country'].value_counts()[:10].index,data_new['Country'].value_counts()[:10].values,color=['black','blue','purple'])\n",
    "plt.xlabel('Countries')\n",
    "plt.ylabel(\"Count\")\n",
    "plt.title(\"Top 10 countries having highest terrorist attacks\")\n",
    "plt.show()"
   ]
  },
  {
   "cell_type": "markdown",
   "id": "83d9d2f3",
   "metadata": {},
   "source": [
    "We can see that Iraq has maximum attack of terrorism. Pakistan is on 2nd position and Afganistan is on 3rd position."
   ]
  },
  {
   "cell_type": "code",
   "execution_count": 24,
   "id": "b5ed20fe",
   "metadata": {},
   "outputs": [
    {
     "data": {
      "text/plain": [
       "Civilians                  6461\n",
       "Unknown                    5918\n",
       "Soldiers                   3157\n",
       "Patrol                     2942\n",
       "Checkpoint                 2905\n",
       "                           ... \n",
       "Manager Sanat Raj             1\n",
       "Military/ Police patrol       1\n",
       "Thor 67 Outpost               1\n",
       "Employee's Vehicle            1\n",
       "Hmeymim Air Base              1\n",
       "Name: Target, Length: 86006, dtype: int64"
      ]
     },
     "execution_count": 24,
     "metadata": {},
     "output_type": "execute_result"
    }
   ],
   "source": [
    "data_new['Target'].value_counts()"
   ]
  },
  {
   "cell_type": "code",
   "execution_count": 25,
   "id": "2f42e1ae",
   "metadata": {},
   "outputs": [
    {
     "data": {
      "image/png": "[encoded data removed]",
      "text/plain": [
       "<Figure size 1080x504 with 1 Axes>"
      ]
     },
     "metadata": {
      "needs_background": "light"
     },
     "output_type": "display_data"
    }
   ],
   "source": [
    "#10 most attack targets\n",
    "plt.figure(figsize=(15,7))\n",
    "plt.bar(data_new['Target'].value_counts()[:10].index, data_new['Target'].value_counts()[:10].values)\n",
    "plt.xlabel(\"Targets\")\n",
    "plt.ylabel(\"No. of attacks\")\n",
    "plt.title(\"Top 10 most attacked targets\")\n",
    "plt.show()"
   ]
  },
  {
   "cell_type": "markdown",
   "id": "42f8eb18",
   "metadata": {},
   "source": [
    "We can see that most of the attacks are done on civilians and many attack types are still unknown."
   ]
  },
  {
   "cell_type": "code",
   "execution_count": 26,
   "id": "a1e0227d",
   "metadata": {},
   "outputs": [
    {
     "data": {
      "image/png": "[encoded data removed]",
      "text/plain": [
       "<Figure size 1080x504 with 1 Axes>"
      ]
     },
     "metadata": {
      "needs_background": "light"
     },
     "output_type": "display_data"
    }
   ],
   "source": [
    "plt.figure(figsize=(15,7))\n",
    "plt.bar(data_new['State'].value_counts()[:10].index,data_new['State'].value_counts()[:10].values,color=['black','blue','purple'])\n",
    "plt.xlabel('States')\n",
    "plt.ylabel(\"No. of Attacks\")\n",
    "plt.title(\"Top 10 states having highest terrorist attacks\")\n",
    "plt.show()"
   ]
  },
  {
   "cell_type": "markdown",
   "id": "68e5d50c",
   "metadata": {},
   "source": [
    "We can see that most attacked state is Baghdad. Then comes the Nothern Ireland and then Balochistan"
   ]
  },
  {
   "cell_type": "code",
   "execution_count": 27,
   "id": "a5e1e801",
   "metadata": {},
   "outputs": [
    {
     "data": {
      "image/png": "[encoded data removed]",
      "text/plain": [
       "<Figure size 792x504 with 1 Axes>"
      ]
     },
     "metadata": {
      "needs_background": "light"
     },
     "output_type": "display_data"
    }
   ],
   "source": [
    "plt.figure(figsize=(11,7))\n",
    "plt.bar(data_new['Region'].value_counts()[:10].index,data_new['Region'].value_counts()[:10].values,color=['black','blue','purple'])\n",
    "plt.xlabel('Region')\n",
    "plt.xticks(rotation=90)\n",
    "plt.ylabel(\"No. of Attacks\")\n",
    "plt.title(\"Top 10 regions having highest terrorist attacks\")\n",
    "plt.show()"
   ]
  },
  {
   "cell_type": "markdown",
   "id": "f7318c12",
   "metadata": {},
   "source": [
    "The graph demonstrate that Middle East and North Africa has the highest number of attacks.\n",
    "South Asia is on 2nd position and South America is on 3rd position."
   ]
  },
  {
   "cell_type": "code",
   "execution_count": 28,
   "id": "9bc54e08",
   "metadata": {},
   "outputs": [
    {
     "data": {
      "text/plain": [
       "array([16903, 14965, 13587, 12036, 10900,  8522,  5076,  5071,  4826,\n",
       "        4805,  4721,  4683,  4324,  3887,  3721,  3495,  3456,  3242,\n",
       "        3197,  3183,  3081,  3058,  2915,  2870,  2860,  2758,  2662,\n",
       "        2586,  2544,  2017,  1906,  1814,  1526,  1395,  1333,  1319,\n",
       "        1278,  1166,   934,   923,   740,   651,   581,   568,   473,\n",
       "         471], dtype=int64)"
      ]
     },
     "execution_count": 28,
     "metadata": {},
     "output_type": "execute_result"
    }
   ],
   "source": [
    "data_new['Year'].value_counts().unique()"
   ]
  },
  {
   "cell_type": "code",
   "execution_count": 29,
   "id": "d292acb4",
   "metadata": {},
   "outputs": [
    {
     "data": {
      "image/png": "[encoded data removed]",
      "text/plain": [
       "<Figure size 792x504 with 1 Axes>"
      ]
     },
     "metadata": {
      "needs_background": "light"
     },
     "output_type": "display_data"
    }
   ],
   "source": [
    "plt.figure(figsize=(11,7))\n",
    "plt.bar(data_new['Year'].value_counts().index,data_new['Year'].value_counts().values,color=['black','blue','purple'])\n",
    "plt.xlabel('Year')\n",
    "plt.xticks(rotation=90)\n",
    "plt.ylabel(\"No. of Attacks\")\n",
    "plt.title(\"Top 10 regions having highest terrorist attacks\")\n",
    "plt.show()"
   ]
  },
  {
   "cell_type": "markdown",
   "id": "d840f0dc",
   "metadata": {},
   "source": [
    "As per the graph, 2014 has the highest terrorism attacks, then 2015 also had quite a good number of terrorist attacks and then comes 2016 year. Hence we can see that terrorism rate started increasing by 2012 and large number of attacks are done till 2017."
   ]
  },
  {
   "cell_type": "markdown",
   "id": "3dd0496b",
   "metadata": {},
   "source": [
    "# Bivariate Analysis"
   ]
  },
  {
   "cell_type": "code",
   "execution_count": 35,
   "id": "a0c9b670",
   "metadata": {},
   "outputs": [
    {
     "data": {
      "image/png": "[encoded data removed]",
      "text/plain": [
       "<Figure size 1080x360 with 1 Axes>"
      ]
     },
     "metadata": {
      "needs_background": "light"
     },
     "output_type": "display_data"
    },
    {
     "data": {
      "image/png": "[encoded data removed]",
      "text/plain": [
       "<Figure size 1080x360 with 1 Axes>"
      ]
     },
     "metadata": {
      "needs_background": "light"
     },
     "output_type": "display_data"
    }
   ],
   "source": [
    "plt.subplot(1,2,1)\n",
    "data_new.groupby(['Region'])['Wounded'].sum().sort_values(ascending=False).head(10).plot(kind='bar',colormap='rocket')\n",
    "plt.title(\"Regions having killed people\",fontsize=15)\n",
    "plt.xlabel('Region')\n",
    "plt.ylabel(\"No of people killed\")\n",
    "plt.xticks(rotation=90)\n",
    "plt.gcf().set_size_inches(15,5)\n",
    "plt.show()\n",
    "\n",
    "plt.subplot(1,2,2)\n",
    "data_new.groupby(['Region'])['People Killed'].sum().sort_values(ascending=False).head(10).plot(kind='bar',colormap='rocket')\n",
    "plt.title(\"Regions having killed people\",fontsize=15)\n",
    "plt.xlabel('Region')\n",
    "plt.ylabel(\"No of people killed\")\n",
    "plt.xticks(rotation=90)\n",
    "plt.gcf().set_size_inches(15,5)\n",
    "plt.show()"
   ]
  },
  {
   "cell_type": "markdown",
   "id": "190394a2",
   "metadata": {},
   "source": [
    "Graph shows that 'Middle East & North Africa' has highest number of wounded and killed people"
   ]
  },
  {
   "cell_type": "code",
   "execution_count": 34,
   "id": "c4a935a7",
   "metadata": {},
   "outputs": [
    {
     "data": {
      "image/png": "[encoded data removed]",
      "text/plain": [
       "<Figure size 1080x360 with 1 Axes>"
      ]
     },
     "metadata": {
      "needs_background": "light"
     },
     "output_type": "display_data"
    },
    {
     "data": {
      "image/png": "[encoded data removed]",
      "text/plain": [
       "<Figure size 1080x360 with 1 Axes>"
      ]
     },
     "metadata": {
      "needs_background": "light"
     },
     "output_type": "display_data"
    }
   ],
   "source": [
    "data_new.groupby(['Country'])['Wounded'].sum().sort_values(ascending=False).head(10).plot(kind='bar',colormap='rocket')\n",
    "plt.title(\"Country having killed people\",fontsize=15)\n",
    "plt.xlabel('Country')\n",
    "plt.ylabel(\"No of people killed\")\n",
    "plt.xticks(rotation=90)\n",
    "plt.gcf().set_size_inches(15,5)\n",
    "plt.show()\n",
    "\n",
    "data_new.groupby(['Country'])['People Killed'].sum().sort_values(ascending=False).head(10).plot(kind='bar',colormap='rocket')\n",
    "plt.title(\"Country having killed people\",fontsize=15)\n",
    "plt.xlabel('Country')\n",
    "plt.ylabel(\"No of people killed\")\n",
    "plt.xticks(rotation=90)\n",
    "plt.gcf().set_size_inches(15,5)\n",
    "plt.show()"
   ]
  },
  {
   "cell_type": "markdown",
   "id": "05453be4",
   "metadata": {},
   "source": [
    "Iraq has the most killed and wounded people"
   ]
  },
  {
   "cell_type": "code",
   "execution_count": 53,
   "id": "0be392f4",
   "metadata": {},
   "outputs": [
    {
     "data": {
      "text/plain": [
       "Unknown                                             82782\n",
       "Taliban                                              7478\n",
       "Islamic State of Iraq and the Levant (ISIL)          5613\n",
       "Shining Path (SL)                                    4555\n",
       "Farabundo Marti National Liberation Front (FMLN)     3351\n",
       "                                                    ...  \n",
       "Ansar Sarallah                                          1\n",
       "Sword of Islam                                          1\n",
       "Support of Ocalan-The Hawks of Thrace                   1\n",
       "Arab Revolutionary Front                                1\n",
       "MANO-D                                                  1\n",
       "Name: Group, Length: 3537, dtype: int64"
      ]
     },
     "execution_count": 53,
     "metadata": {},
     "output_type": "execute_result"
    }
   ],
   "source": [
    "#Checking the terrorist attacks done by each group\n",
    "data_new['Group'].value_counts()"
   ]
  },
  {
   "cell_type": "code",
   "execution_count": 54,
   "id": "ae0bff05",
   "metadata": {},
   "outputs": [
    {
     "name": "stderr",
     "output_type": "stream",
     "text": [
      "C:\\Users\\tarna\\anaconda3\\lib\\site-packages\\seaborn\\_decorators.py:36: FutureWarning: Pass the following variables as keyword args: x, y. From version 0.12, the only valid positional argument will be `data`, and passing other arguments without an explicit keyword will result in an error or misinterpretation.\n",
      "  warnings.warn(\n"
     ]
    },
    {
     "data": {
      "image/png": "[encoded data removed]",
      "text/plain": [
       "<Figure size 1080x720 with 1 Axes>"
      ]
     },
     "metadata": {
      "needs_background": "light"
     },
     "output_type": "display_data"
    }
   ],
   "source": [
    "#Graph for top 10 terrorist organization\n",
    "\n",
    "plt.figure(figsize=(15,10))\n",
    "sns.barplot(data_new['Group'].value_counts()[1:11].index,data_new.value_counts()[1:11].values,palette='rocket')\n",
    "plt.title(\"Top 10 terrorist attack organisation\")\n",
    "plt.xlabel(\"Terrorist Groups\")\n",
    "plt.ylabel(\"No of attacks\")\n",
    "plt.xticks(rotation=90)\n",
    "plt.show()"
   ]
  },
  {
   "cell_type": "markdown",
   "id": "bcfa31ee",
   "metadata": {},
   "source": [
    "# Conclusion\n",
    "## Results of Exploratory Data Analysis\n",
    "- 1.8 Lac+ attacks were done from 1970 to 2017\n",
    "- 1.7 Lac+ people were killed and 1.6 Lac+ people were wounded\n",
    "-  Most common attack is assassination (48.57%), then Hostage Taking attack (23.48%) and Bombing attack covers 10.63% of the graph\n",
    "- Iraq has the highest number of attacks and number of people killed and wounded.\n",
    "- Most of the attacks were done on Civilians, then comes the soldiers, Patrol and Checkpoints.\n",
    "- Baghdad state has highest number of terrorist attacks followed up by Nothern Ireland and Balochistan.\n",
    "- Middle East and North Africa region has the highest number of attacks.\n",
    "- Terrorist attacks increased more from and 2012 and most of the attacks were done by Taliban, however some attacking organization are still unknown.\n",
    "\n",
    "## Hot zone of terrorism\n",
    "- Iraq, Pakistan and Afganistan are coutries having highest terror attacks.\n",
    "- Baghdad, Northern Ireland and Balochistan are states having highest terror attacks.\n",
    "- Middle East and North Africa region has highest number of attacks followed up by South Asia and Sub saharan Africa.\n",
    "\n",
    "## Security Issues and insights\n",
    "- As civilians are attacked most, security must be increased for them.\n",
    "- Most common attacks include assasination and kidnapping, strict investigation should be done in such cases.\n",
    "- Strict border policy should be implemented to prevent the movement of explosives between the regions.\n",
    "- More surelliance is required in Middle East and North Africa regions."
   ]
  }
 ],
 "metadata": {
  "kernelspec": {
   "display_name": "Python 3 (ipykernel)",
   "language": "python",
   "name": "python3"
  },
  "language_info": {
   "codemirror_mode": {
    "name": "ipython",
    "version": 3
   },
   "file_extension": ".py",
   "mimetype": "text/x-python",
   "name": "python",
   "nbconvert_exporter": "python",
   "pygments_lexer": "ipython3",
   "version": "3.9.7"
  }
 },
 "nbformat": 4,
 "nbformat_minor": 5
}
